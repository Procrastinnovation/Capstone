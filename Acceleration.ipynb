{
 "cells": [
  {
   "cell_type": "code",
   "execution_count": 1,
   "metadata": {},
   "outputs": [],
   "source": [
    "import numpy as np\n",
    "import matplotlib.pyplot as plt\n",
    "import matplotlib.animation as animation\n",
    "import pandas"
   ]
  },
  {
   "cell_type": "code",
   "execution_count": 2,
   "metadata": {},
   "outputs": [],
   "source": [
    "pathfile4 = 'csv/Right_TurningKick_CSV/Turningkick4_Accelerometer.csv'\n",
    "pathfile5 = 'csv/Right_TurningKick_CSV/Turningkick5_Accelerometer.csv'\n",
    "pathfile6 = 'csv/Right_TurningKick_CSV/Turningkick6_Accelerometer.csv'\n",
    "pathfile7 = 'csv/Right_TurningKick_CSV/Turningkick7_Accelerometer.csv'\n",
    "pathfile8 = 'csv/Right_TurningKick_CSV/Turningkick8_Accelerometer.csv'\n",
    "pathfile9 = 'csv/Right_TurningKick_CSV/Turningkick9_Accelerometer.csv'\n",
    "df4 = pandas.read_csv(pathfile4, skiprows=4)\n",
    "df5 = pandas.read_csv(pathfile5, skiprows=4)\n",
    "#df6 = pandas.read_csv(pathfile6, skiprows=4)\n",
    "#df7 = pandas.read_csv(pathfile7, skiprows=4)\n",
    "#df8 = pandas.read_csv(pathfile8, skiprows=4)\n",
    "#df9 = pandas.read_csv(pathfile9, skiprows=4)\n",
    "\n",
    "acc4 = df4['X (mg)']**2 + df4['Y (mg)']**2 + df4['Z (mg)']**2\n",
    "acc4 = np.sqrt(acc4)\n",
    "acc4=acc4.iloc[10:60]\n",
    "#print(acc4.describe())\n",
    "df5=df5.head(73)\n",
    "\n",
    "acc5 = df5['X (mg)']**2 + df5['Y (mg)']**2 + df5['Z (mg)']**2\n",
    "acc5 = np.sqrt(acc5)\n",
    "acc5=acc5.iloc[5:45]\n",
    "#print(acc5.describe())\n",
    "#print(acc5)"
   ]
  },
  {
   "cell_type": "code",
   "execution_count": 3,
   "metadata": {},
   "outputs": [
    {
     "name": "stdout",
     "output_type": "stream",
     "text": [
      "[-0.03   0.     0.06   0.121  0.15   0.21   0.3    0.333  0.359  0.42\n",
      "  0.449  0.51   0.57   0.599  0.66   0.75   0.784  0.809  0.869  0.9\n",
      "  0.96   1.02   1.049  1.109  1.17   1.2    1.26   1.32   1.35   1.44\n",
      "  1.472  1.499  1.59   1.62   1.649  1.709  1.74   1.8    1.86   1.89\n",
      "  1.949  2.01   2.039  2.16   2.162  2.199  2.249  2.31   2.34   2.43 ]\n"
     ]
    }
   ],
   "source": [
    "HostTime4 = df4['HostTimestamp']\n",
    "HostTime4=HostTime4.iloc[10:60]\n",
    "HostTime4 -= HostTime4[11]\n",
    "HostTime4 /= 1000\n",
    "acc4=np.array(acc4)/1000\n",
    "HostTime4 = np.array(HostTime4)\n",
    "print(HostTime4)"
   ]
  },
  {
   "cell_type": "code",
   "execution_count": 4,
   "metadata": {},
   "outputs": [
    {
     "name": "stdout",
     "output_type": "stream",
     "text": [
      "[0.    0.038 0.128 0.154 0.188 0.249 0.278 0.338 0.399 0.429 0.489 0.549\n",
      " 0.578 0.639 0.699 0.729 0.789 0.849 0.879 0.939 0.999 1.029 1.089 1.149\n",
      " 1.178 1.238 1.299 1.329 1.389 1.449 1.479 1.539 1.599 1.629 1.689 1.749\n",
      " 1.778 1.87  1.901]\n"
     ]
    }
   ],
   "source": [
    "HostTime5 = df5['HostTimestamp']\n",
    "HostTime5 = HostTime5.iloc[6:45]\n",
    "HostTime5 = HostTime5.astype('int64')\n",
    "\n",
    "#for i in range(0, len(HostTime5)): \n",
    "#    HostTime5[i] = int(HostTime5[i]) \n",
    "HostTime5 -= HostTime5[6]\n",
    "HostTime5 /= 1000\n",
    "acc5=np.array(acc5)/1000\n",
    "HostTime5 = np.array(HostTime5)\n",
    "print(HostTime5)"
   ]
  },
  {
   "cell_type": "code",
   "execution_count": 5,
   "metadata": {},
   "outputs": [
    {
     "name": "stdout",
     "output_type": "stream",
     "text": [
      "2\n",
      "2\n"
     ]
    }
   ],
   "source": [
    "duration4 = int(HostTime4[-1])\n",
    "print(duration4)\n",
    "samples4 = int(len(HostTime4)/duration4)\n",
    "print(duration4)"
   ]
  },
  {
   "cell_type": "code",
   "execution_count": 6,
   "metadata": {},
   "outputs": [
    {
     "name": "stdout",
     "output_type": "stream",
     "text": [
      "1\n",
      "1\n"
     ]
    }
   ],
   "source": [
    "duration5 = int(HostTime5[-1])\n",
    "print(duration5)\n",
    "samples5 = int(len(HostTime5)/duration5)\n",
    "print(duration5)"
   ]
  },
  {
   "cell_type": "code",
   "execution_count": 27,
   "metadata": {
    "scrolled": true
   },
   "outputs": [
    {
     "name": "stdout",
     "output_type": "stream",
     "text": [
      "[-0.03   0.     0.06   0.121  0.15   0.21   0.3    0.333  0.359  0.42\n",
      "  0.449  0.51   0.57   0.599  0.66   0.75   0.784  0.809  0.869  0.9\n",
      "  0.96   1.02   1.049  1.109  1.17   1.2    1.26   1.32   1.35   1.44\n",
      "  1.472  1.499  1.59   1.62   1.649  1.709  1.74   1.8    1.86   1.89\n",
      "  1.949  2.01   2.039  2.16   2.162  2.199  2.249  2.31   2.34   2.43 ]\n",
      "[0.    0.038 0.128 0.154 0.188 0.249 0.278 0.338 0.399 0.429 0.489 0.549\n",
      " 0.578 0.639 0.699 0.729 0.789 0.849 0.879 0.939 0.999 1.029 1.089 1.149\n",
      " 1.178 1.238 1.299 1.329 1.389 1.449 1.479 1.539 1.599 1.629 1.689 1.749\n",
      " 1.778 1.87  1.901]\n",
      "[0.98473042 0.99735901 1.00391534 0.99822943 0.98814979 0.99249685\n",
      " 0.99617569 0.98051313 0.99722164 1.07097572 1.20586027 1.93568438\n",
      " 2.59680457 2.6441318  2.18535443 2.70581319 1.61823113 1.74737203\n",
      " 2.17490597 2.63395387 2.18155655 3.45948291 2.73917396 2.32696154\n",
      " 2.09463768 0.98449073 2.15032672 1.99053762 2.36131679 2.22880349\n",
      " 1.25265957 1.72173459 1.8037023  2.79559958 1.30614892 1.40965705\n",
      " 1.09349074 0.96528804 1.02623048 0.9730966  0.97275125 1.00329906\n",
      " 1.0107888  0.99683549 0.98294913 0.99333479 0.9985179  0.98215477\n",
      " 0.98204328 1.00840171]\n",
      "[0.99017069 1.02307869 1.07056294 1.44511418 2.30918276 3.20517971\n",
      " 2.40714229 2.31547382 2.03592952 2.17172973 1.96916353 2.68939138\n",
      " 2.37513242 2.26815983 3.26532372 2.01886329 2.11274419 0.74347495\n",
      " 0.82069483 1.37049407 1.34753627 1.39404555 1.6963729  2.01221793\n",
      " 2.02867173 1.89998789 1.51110357 1.66162631 1.1632287  1.45831238\n",
      " 0.94744868 1.03980816 0.99836967 1.01872126 0.9985139  0.99947436\n",
      " 0.99433093 0.99920969 0.99303223 0.99089909]\n"
     ]
    },
    {
     "ename": "ValueError",
     "evalue": "x and y must have same first dimension, but have shapes (39,) and (40,)",
     "output_type": "error",
     "traceback": [
      "\u001b[1;31m---------------------------------------------------------------------------\u001b[0m",
      "\u001b[1;31mValueError\u001b[0m                                Traceback (most recent call last)",
      "\u001b[1;32m<ipython-input-27-7ead6ed7d8f3>\u001b[0m in \u001b[0;36m<module>\u001b[1;34m()\u001b[0m\n\u001b[0;32m      5\u001b[0m \u001b[1;33m\u001b[0m\u001b[0m\n\u001b[0;32m      6\u001b[0m \u001b[0mplt\u001b[0m\u001b[1;33m.\u001b[0m\u001b[0mplot\u001b[0m\u001b[1;33m(\u001b[0m\u001b[0mHostTime4\u001b[0m\u001b[1;33m,\u001b[0m\u001b[0macc4\u001b[0m\u001b[1;33m,\u001b[0m\u001b[1;34m'r-'\u001b[0m\u001b[1;33m)\u001b[0m\u001b[1;33m\u001b[0m\u001b[0m\n\u001b[1;32m----> 7\u001b[1;33m \u001b[0mplt\u001b[0m\u001b[1;33m.\u001b[0m\u001b[0mplot\u001b[0m\u001b[1;33m(\u001b[0m\u001b[0mHostTime5\u001b[0m\u001b[1;33m,\u001b[0m\u001b[0macc5\u001b[0m\u001b[1;33m,\u001b[0m\u001b[1;34m'b-'\u001b[0m\u001b[1;33m)\u001b[0m\u001b[1;33m\u001b[0m\u001b[0m\n\u001b[0m\u001b[0;32m      8\u001b[0m \u001b[0mplt\u001b[0m\u001b[1;33m.\u001b[0m\u001b[0mxlabel\u001b[0m\u001b[1;33m(\u001b[0m\u001b[1;34m'time [s]'\u001b[0m\u001b[1;33m)\u001b[0m\u001b[1;33m\u001b[0m\u001b[0m\n\u001b[0;32m      9\u001b[0m \u001b[0mplt\u001b[0m\u001b[1;33m.\u001b[0m\u001b[0mylabel\u001b[0m\u001b[1;33m(\u001b[0m\u001b[1;34m'acceleration [g]'\u001b[0m\u001b[1;33m)\u001b[0m\u001b[1;33m\u001b[0m\u001b[0m\n",
      "\u001b[1;32m~\\Anaconda3\\lib\\site-packages\\matplotlib\\pyplot.py\u001b[0m in \u001b[0;36mplot\u001b[1;34m(*args, **kwargs)\u001b[0m\n\u001b[0;32m   3356\u001b[0m                       mplDeprecation)\n\u001b[0;32m   3357\u001b[0m     \u001b[1;32mtry\u001b[0m\u001b[1;33m:\u001b[0m\u001b[1;33m\u001b[0m\u001b[0m\n\u001b[1;32m-> 3358\u001b[1;33m         \u001b[0mret\u001b[0m \u001b[1;33m=\u001b[0m \u001b[0max\u001b[0m\u001b[1;33m.\u001b[0m\u001b[0mplot\u001b[0m\u001b[1;33m(\u001b[0m\u001b[1;33m*\u001b[0m\u001b[0margs\u001b[0m\u001b[1;33m,\u001b[0m \u001b[1;33m**\u001b[0m\u001b[0mkwargs\u001b[0m\u001b[1;33m)\u001b[0m\u001b[1;33m\u001b[0m\u001b[0m\n\u001b[0m\u001b[0;32m   3359\u001b[0m     \u001b[1;32mfinally\u001b[0m\u001b[1;33m:\u001b[0m\u001b[1;33m\u001b[0m\u001b[0m\n\u001b[0;32m   3360\u001b[0m         \u001b[0max\u001b[0m\u001b[1;33m.\u001b[0m\u001b[0m_hold\u001b[0m \u001b[1;33m=\u001b[0m \u001b[0mwashold\u001b[0m\u001b[1;33m\u001b[0m\u001b[0m\n",
      "\u001b[1;32m~\\Anaconda3\\lib\\site-packages\\matplotlib\\__init__.py\u001b[0m in \u001b[0;36minner\u001b[1;34m(ax, *args, **kwargs)\u001b[0m\n\u001b[0;32m   1853\u001b[0m                         \u001b[1;34m\"the Matplotlib list!)\"\u001b[0m \u001b[1;33m%\u001b[0m \u001b[1;33m(\u001b[0m\u001b[0mlabel_namer\u001b[0m\u001b[1;33m,\u001b[0m \u001b[0mfunc\u001b[0m\u001b[1;33m.\u001b[0m\u001b[0m__name__\u001b[0m\u001b[1;33m)\u001b[0m\u001b[1;33m,\u001b[0m\u001b[1;33m\u001b[0m\u001b[0m\n\u001b[0;32m   1854\u001b[0m                         RuntimeWarning, stacklevel=2)\n\u001b[1;32m-> 1855\u001b[1;33m             \u001b[1;32mreturn\u001b[0m \u001b[0mfunc\u001b[0m\u001b[1;33m(\u001b[0m\u001b[0max\u001b[0m\u001b[1;33m,\u001b[0m \u001b[1;33m*\u001b[0m\u001b[0margs\u001b[0m\u001b[1;33m,\u001b[0m \u001b[1;33m**\u001b[0m\u001b[0mkwargs\u001b[0m\u001b[1;33m)\u001b[0m\u001b[1;33m\u001b[0m\u001b[0m\n\u001b[0m\u001b[0;32m   1856\u001b[0m \u001b[1;33m\u001b[0m\u001b[0m\n\u001b[0;32m   1857\u001b[0m         inner.__doc__ = _add_data_doc(inner.__doc__,\n",
      "\u001b[1;32m~\\Anaconda3\\lib\\site-packages\\matplotlib\\axes\\_axes.py\u001b[0m in \u001b[0;36mplot\u001b[1;34m(self, *args, **kwargs)\u001b[0m\n\u001b[0;32m   1525\u001b[0m         \u001b[0mkwargs\u001b[0m \u001b[1;33m=\u001b[0m \u001b[0mcbook\u001b[0m\u001b[1;33m.\u001b[0m\u001b[0mnormalize_kwargs\u001b[0m\u001b[1;33m(\u001b[0m\u001b[0mkwargs\u001b[0m\u001b[1;33m,\u001b[0m \u001b[0m_alias_map\u001b[0m\u001b[1;33m)\u001b[0m\u001b[1;33m\u001b[0m\u001b[0m\n\u001b[0;32m   1526\u001b[0m \u001b[1;33m\u001b[0m\u001b[0m\n\u001b[1;32m-> 1527\u001b[1;33m         \u001b[1;32mfor\u001b[0m \u001b[0mline\u001b[0m \u001b[1;32min\u001b[0m \u001b[0mself\u001b[0m\u001b[1;33m.\u001b[0m\u001b[0m_get_lines\u001b[0m\u001b[1;33m(\u001b[0m\u001b[1;33m*\u001b[0m\u001b[0margs\u001b[0m\u001b[1;33m,\u001b[0m \u001b[1;33m**\u001b[0m\u001b[0mkwargs\u001b[0m\u001b[1;33m)\u001b[0m\u001b[1;33m:\u001b[0m\u001b[1;33m\u001b[0m\u001b[0m\n\u001b[0m\u001b[0;32m   1528\u001b[0m             \u001b[0mself\u001b[0m\u001b[1;33m.\u001b[0m\u001b[0madd_line\u001b[0m\u001b[1;33m(\u001b[0m\u001b[0mline\u001b[0m\u001b[1;33m)\u001b[0m\u001b[1;33m\u001b[0m\u001b[0m\n\u001b[0;32m   1529\u001b[0m             \u001b[0mlines\u001b[0m\u001b[1;33m.\u001b[0m\u001b[0mappend\u001b[0m\u001b[1;33m(\u001b[0m\u001b[0mline\u001b[0m\u001b[1;33m)\u001b[0m\u001b[1;33m\u001b[0m\u001b[0m\n",
      "\u001b[1;32m~\\Anaconda3\\lib\\site-packages\\matplotlib\\axes\\_base.py\u001b[0m in \u001b[0;36m_grab_next_args\u001b[1;34m(self, *args, **kwargs)\u001b[0m\n\u001b[0;32m    404\u001b[0m                 \u001b[0mthis\u001b[0m \u001b[1;33m+=\u001b[0m \u001b[0margs\u001b[0m\u001b[1;33m[\u001b[0m\u001b[1;36m0\u001b[0m\u001b[1;33m]\u001b[0m\u001b[1;33m,\u001b[0m\u001b[1;33m\u001b[0m\u001b[0m\n\u001b[0;32m    405\u001b[0m                 \u001b[0margs\u001b[0m \u001b[1;33m=\u001b[0m \u001b[0margs\u001b[0m\u001b[1;33m[\u001b[0m\u001b[1;36m1\u001b[0m\u001b[1;33m:\u001b[0m\u001b[1;33m]\u001b[0m\u001b[1;33m\u001b[0m\u001b[0m\n\u001b[1;32m--> 406\u001b[1;33m             \u001b[1;32mfor\u001b[0m \u001b[0mseg\u001b[0m \u001b[1;32min\u001b[0m \u001b[0mself\u001b[0m\u001b[1;33m.\u001b[0m\u001b[0m_plot_args\u001b[0m\u001b[1;33m(\u001b[0m\u001b[0mthis\u001b[0m\u001b[1;33m,\u001b[0m \u001b[0mkwargs\u001b[0m\u001b[1;33m)\u001b[0m\u001b[1;33m:\u001b[0m\u001b[1;33m\u001b[0m\u001b[0m\n\u001b[0m\u001b[0;32m    407\u001b[0m                 \u001b[1;32myield\u001b[0m \u001b[0mseg\u001b[0m\u001b[1;33m\u001b[0m\u001b[0m\n\u001b[0;32m    408\u001b[0m \u001b[1;33m\u001b[0m\u001b[0m\n",
      "\u001b[1;32m~\\Anaconda3\\lib\\site-packages\\matplotlib\\axes\\_base.py\u001b[0m in \u001b[0;36m_plot_args\u001b[1;34m(self, tup, kwargs)\u001b[0m\n\u001b[0;32m    381\u001b[0m             \u001b[0mx\u001b[0m\u001b[1;33m,\u001b[0m \u001b[0my\u001b[0m \u001b[1;33m=\u001b[0m \u001b[0mindex_of\u001b[0m\u001b[1;33m(\u001b[0m\u001b[0mtup\u001b[0m\u001b[1;33m[\u001b[0m\u001b[1;33m-\u001b[0m\u001b[1;36m1\u001b[0m\u001b[1;33m]\u001b[0m\u001b[1;33m)\u001b[0m\u001b[1;33m\u001b[0m\u001b[0m\n\u001b[0;32m    382\u001b[0m \u001b[1;33m\u001b[0m\u001b[0m\n\u001b[1;32m--> 383\u001b[1;33m         \u001b[0mx\u001b[0m\u001b[1;33m,\u001b[0m \u001b[0my\u001b[0m \u001b[1;33m=\u001b[0m \u001b[0mself\u001b[0m\u001b[1;33m.\u001b[0m\u001b[0m_xy_from_xy\u001b[0m\u001b[1;33m(\u001b[0m\u001b[0mx\u001b[0m\u001b[1;33m,\u001b[0m \u001b[0my\u001b[0m\u001b[1;33m)\u001b[0m\u001b[1;33m\u001b[0m\u001b[0m\n\u001b[0m\u001b[0;32m    384\u001b[0m \u001b[1;33m\u001b[0m\u001b[0m\n\u001b[0;32m    385\u001b[0m         \u001b[1;32mif\u001b[0m \u001b[0mself\u001b[0m\u001b[1;33m.\u001b[0m\u001b[0mcommand\u001b[0m \u001b[1;33m==\u001b[0m \u001b[1;34m'plot'\u001b[0m\u001b[1;33m:\u001b[0m\u001b[1;33m\u001b[0m\u001b[0m\n",
      "\u001b[1;32m~\\Anaconda3\\lib\\site-packages\\matplotlib\\axes\\_base.py\u001b[0m in \u001b[0;36m_xy_from_xy\u001b[1;34m(self, x, y)\u001b[0m\n\u001b[0;32m    240\u001b[0m         \u001b[1;32mif\u001b[0m \u001b[0mx\u001b[0m\u001b[1;33m.\u001b[0m\u001b[0mshape\u001b[0m\u001b[1;33m[\u001b[0m\u001b[1;36m0\u001b[0m\u001b[1;33m]\u001b[0m \u001b[1;33m!=\u001b[0m \u001b[0my\u001b[0m\u001b[1;33m.\u001b[0m\u001b[0mshape\u001b[0m\u001b[1;33m[\u001b[0m\u001b[1;36m0\u001b[0m\u001b[1;33m]\u001b[0m\u001b[1;33m:\u001b[0m\u001b[1;33m\u001b[0m\u001b[0m\n\u001b[0;32m    241\u001b[0m             raise ValueError(\"x and y must have same first dimension, but \"\n\u001b[1;32m--> 242\u001b[1;33m                              \"have shapes {} and {}\".format(x.shape, y.shape))\n\u001b[0m\u001b[0;32m    243\u001b[0m         \u001b[1;32mif\u001b[0m \u001b[0mx\u001b[0m\u001b[1;33m.\u001b[0m\u001b[0mndim\u001b[0m \u001b[1;33m>\u001b[0m \u001b[1;36m2\u001b[0m \u001b[1;32mor\u001b[0m \u001b[0my\u001b[0m\u001b[1;33m.\u001b[0m\u001b[0mndim\u001b[0m \u001b[1;33m>\u001b[0m \u001b[1;36m2\u001b[0m\u001b[1;33m:\u001b[0m\u001b[1;33m\u001b[0m\u001b[0m\n\u001b[0;32m    244\u001b[0m             raise ValueError(\"x and y can be no greater than 2-D, but have \"\n",
      "\u001b[1;31mValueError\u001b[0m: x and y must have same first dimension, but have shapes (39,) and (40,)"
     ]
    },
    {
     "data": {
      "image/png": "[encoded data removed]",
      "text/plain": [
       "<Figure size 432x288 with 1 Axes>"
      ]
     },
     "metadata": {},
     "output_type": "display_data"
    }
   ],
   "source": [
    "print(HostTime4)\n",
    "print(HostTime5)\n",
    "print(acc4)\n",
    "print(acc5)\n",
    "\n",
    "plt.plot(HostTime4,acc4,'r-')\n",
    "plt.plot(HostTime5,acc5,'b-')\n",
    "plt.xlabel('time [s]')\n",
    "plt.ylabel('acceleration [g]')\n",
    "plt.show()"
   ]
  },
  {
   "cell_type": "code",
   "execution_count": null,
   "metadata": {},
   "outputs": [],
   "source": []
  }
 ],
 "metadata": {
  "kernelspec": {
   "display_name": "Python 3",
   "language": "python",
   "name": "python3"
  },
  "language_info": {
   "codemirror_mode": {
    "name": "ipython",
    "version": 3
   },
   "file_extension": ".py",
   "mimetype": "text/x-python",
   "name": "python",
   "nbconvert_exporter": "python",
   "pygments_lexer": "ipython3",
   "version": "3.6.5"
  }
 },
 "nbformat": 4,
 "nbformat_minor": 2
}
