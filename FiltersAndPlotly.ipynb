{
 "cells": [
  {
   "cell_type": "code",
   "execution_count": 1,
   "metadata": {},
   "outputs": [],
   "source": [
    "#import plotly.plotly as py\n",
    "from chart_studio.plotly import plot, iplot\n",
    "import plotly.graph_objs as go\n",
    "import plotly.figure_factory as ff\n",
    "\n",
    "import numpy as np\n",
    "import pandas as pd\n",
    "import scipy\n",
    "\n",
    "from scipy import signal"
   ]
  },
  {
   "cell_type": "markdown",
   "metadata": {},
   "source": [
    "Replace plotly.api with chart_studio.api\n",
    "Replace plotly.dashboard_objs with chart_studio.dashboard_objs\n",
    "Replace plotly.grid_objs with chart_studio.grid_objs\n",
    "Replace plotly.presentation_objs with chart_studio.presentation_objs\n",
    "Replace plotly.widgets with chart_studio.widgets"
   ]
  },
  {
   "cell_type": "code",
   "execution_count": 3,
   "metadata": {},
   "outputs": [],
   "source": [
    "pathfile = '20200315_045343_Accelerometer.csv'\n",
    "df = pd.read_csv(pathfile)"
   ]
  },
  {
   "cell_type": "code",
   "execution_count": 4,
   "metadata": {},
   "outputs": [],
   "source": [
    "#There are 1600 items in df, there are 11 possible repetitions of the motion. I'll divide by 11 (145)\n",
    "#acc = df['X (mg)']**2 + df['Y (mg)']**2 + df['Z (mg)']**2\n",
    "accZ = df['Z (mg)']"
   ]
  },
  {
   "cell_type": "code",
   "execution_count": 5,
   "metadata": {},
   "outputs": [],
   "source": [
    "HostTimeZ = df['HostTimestamp']\n",
    "HostTimeZ -= HostTimeZ[0]\n",
    "HostTimeZ /= 1000\n",
    "headZ = accZ.head(150)\n",
    "headHostTimeZ=HostTimeZ.head(150)\n",
    "#print(headZ, headHostTime)"
   ]
  },
  {
   "cell_type": "code",
   "execution_count": 6,
   "metadata": {},
   "outputs": [
    {
     "name": "stdout",
     "output_type": "stream",
     "text": [
      "7\n",
      "21\n"
     ]
    }
   ],
   "source": [
    "headZ=np.array(headZ)/1000\n",
    "headHostTimeZ = np.array(headHostTimeZ)\n",
    "duration = int(headHostTimeZ[-1])\n",
    "samples = int(len(headHostTimeZ)/duration)\n",
    "print(duration)\n",
    "print(samples)"
   ]
  },
  {
   "cell_type": "markdown",
   "metadata": {},
   "source": [
    "plt.plot(headHostTimeZ,headZ,'r-')\n",
    "plt.xlabel('time [s]')\n",
    "plt.ylabel('acceleration [mg]')\n",
    "plt.show()"
   ]
  },
  {
   "cell_type": "markdown",
   "metadata": {},
   "source": [
    "# Plot the Data"
   ]
  },
  {
   "cell_type": "code",
   "execution_count": 7,
   "metadata": {},
   "outputs": [],
   "source": [
    "trace1 = go.Scatter(\n",
    "   x=headHostTimeZ,\n",
    "   y=headZ,\n",
    "   mode='lines',\n",
    "   name='Acceleration X'\n",
    ")\n",
    "layout = go.Layout(\n",
    "    showlegend=True\n",
    ")"
   ]
  },
  {
   "cell_type": "code",
   "execution_count": 8,
   "metadata": {},
   "outputs": [
    {
     "data": {
      "text/plain": [
       "'temp-plot.html'"
      ]
     },
     "execution_count": 8,
     "metadata": {},
     "output_type": "execute_result"
    }
   ],
   "source": [
    "from plotly.offline import plot\n",
    "trace_data = [trace1]\n",
    "fig = go.Figure(data=trace_data, layout=layout)\n",
    "plot(fig)#, filename='accZ-data-plot'"
   ]
  },
  {
   "cell_type": "markdown",
   "metadata": {},
   "source": [
    "# Low-Pass Filter\n",
    "A Low-Pass Filter is used to remove the higher frequencies in a signal of data.\n",
    "\n",
    "fc is the cutoff frequency as a fraction of the sampling rate, and b is the transition band also as a function of the sampling rate. N must be an odd number in our calculation as well."
   ]
  },
  {
   "cell_type": "code",
   "execution_count": 17,
   "metadata": {},
   "outputs": [
    {
     "name": "stdout",
     "output_type": "stream",
     "text": [
      "-65.67325741461394\n"
     ]
    },
    {
     "data": {
      "text/plain": [
       "'temp-plot.html'"
      ]
     },
     "execution_count": 17,
     "metadata": {},
     "output_type": "execute_result"
    }
   ],
   "source": [
    "import math\n",
    "fc = 0.1\n",
    "b = 0.08\n",
    "N = int(np.ceil((4 / b)))\n",
    "if not N % 2: N += 1\n",
    "n = np.arange(N)\n",
    "\n",
    "sinc_func = np.sinc(2 * fc * (n - (N - 1) / 2.))\n",
    "window = 0.42 - 0.5 * np.cos(2 * np.pi * n / (N - 1)) + 0.08 * np.cos(4 * np.pi * n / (N - 1))\n",
    "sinc_func = sinc_func * window\n",
    "sinc_func = sinc_func / np.sum(sinc_func)\n",
    "\n",
    "#s = list(data['10 Min Std Dev'])\n",
    "s = headZ\n",
    "new_signal = np.convolve(s, sinc_func)\n",
    "print(np.min(1000*new_signal))\n",
    "trace1 = go.Scatter(\n",
    "    x=list(range(len(new_signal))),\n",
    "    y=new_signal,\n",
    "    mode='lines',\n",
    "    name='Low-Pass Filter',\n",
    "    marker=dict(\n",
    "        color='#C54C82'\n",
    "    )\n",
    ")\n",
    "\n",
    "layout = go.Layout(\n",
    "    title='Low-Pass Filter',\n",
    "    showlegend=True\n",
    ")\n",
    "\n",
    "trace_data = [trace1]\n",
    "fig = go.Figure(data=trace_data, layout=layout)\n",
    "plot(fig)\n",
    "#py.iplot(fig, filename='fft-low-pass-filter')"
   ]
  },
  {
   "cell_type": "markdown",
   "metadata": {},
   "source": [
    "# High-Pass Filter\n",
    "Similarly a High-Pass Filter will remove the lower frequencies from a signal of data.\n",
    "\n",
    "Again, fc is the cutoff frequency as a fraction of the sampling rate, and b is the transition band also as a function of the sampling rate. N must be an odd number.\n",
    "\n",
    "Only by performing a spectral inversion afterwards after setting up our Low-Pass Filter will we get the High-Pass Filter."
   ]
  },
  {
   "cell_type": "code",
   "execution_count": null,
   "metadata": {},
   "outputs": [],
   "source": [
    "fc = 0.1\n",
    "b = 0.08\n",
    "N = int(np.ceil((4 / b)))\n",
    "if not N % 2: N += 1\n",
    "n = np.arange(N)\n",
    "\n",
    "sinc_func = np.sinc(2 * fc * (n - (N - 1) / 2.))\n",
    "window = np.blackman(N)\n",
    "sinc_func = sinc_func * window\n",
    "sinc_func = sinc_func / np.sum(sinc_func)\n",
    "\n",
    "# reverse function\n",
    "sinc_func = -sinc_func\n",
    "sinc_func[int((N - 1) / 2)] += 1\n",
    "\n",
    "#s = list(data['10 Min Std Dev'])\n",
    "s = headZ\n",
    "new_signal = np.convolve(s, sinc_func)\n",
    "\n",
    "trace1 = go.Scatter(\n",
    "    x=list(range(len(new_signal))),\n",
    "    y=new_signal,\n",
    "    mode='lines',\n",
    "    name='High-Pass Filter',\n",
    "    marker=dict(\n",
    "        color='#424242'\n",
    "    )\n",
    ")\n",
    "\n",
    "layout = go.Layout(\n",
    "    title='High-Pass Filter',\n",
    "    showlegend=True\n",
    ")\n",
    "\n",
    "trace_data = [trace1]\n",
    "fig = go.Figure(data=trace_data, layout=layout)\n",
    "py.iplot(fig, filename='fft-high-pass-filter')"
   ]
  },
  {
   "cell_type": "markdown",
   "metadata": {},
   "source": [
    "# Band-Pass Filter\n",
    "The Band-Pass Filter will allow you to reduce the frequencies outside of a defined range of frequencies. We can think of it as low-passing and high-passing at the same time.\n",
    "\n",
    "In the example below, fL and fH are the low and high cutoff frequencies respectively as a fraction of the sampling rate."
   ]
  },
  {
   "cell_type": "code",
   "execution_count": null,
   "metadata": {},
   "outputs": [],
   "source": [
    "fL = 0.1\n",
    "fH = 0.3\n",
    "b = 0.08\n",
    "N = int(np.ceil((4 / b)))\n",
    "if not N % 2: N += 1  # Make sure that N is odd.\n",
    "n = np.arange(N)\n",
    "\n",
    "# low-pass filter\n",
    "hlpf = np.sinc(2 * fH * (n - (N - 1) / 2.))\n",
    "hlpf *= np.blackman(N)\n",
    "hlpf = hlpf / np.sum(hlpf)\n",
    "\n",
    "# high-pass filter \n",
    "hhpf = np.sinc(2 * fL * (n - (N - 1) / 2.))\n",
    "hhpf *= np.blackman(N)\n",
    "hhpf = hhpf / np.sum(hhpf)\n",
    "hhpf = -hhpf\n",
    "hhpf[int((N - 1) / 2)] += 1\n",
    "\n",
    "h = np.convolve(hlpf, hhpf)\n",
    "#s = list(data['10 Min Std Dev'])\n",
    "s = headZ\n",
    "new_signal = np.convolve(s, h)\n",
    "\n",
    "trace1 = go.Scatter(\n",
    "    x=list(range(len(new_signal))),\n",
    "    y=new_signal,\n",
    "    mode='lines',\n",
    "    name='Band-Pass Filter',\n",
    "    marker=dict(\n",
    "        color='#BB47BE'\n",
    "    )\n",
    ")\n",
    "\n",
    "layout = go.Layout(\n",
    "    title='Band-Pass Filter',\n",
    "    showlegend=True\n",
    ")\n",
    "\n",
    "trace_data = [trace1]\n",
    "fig = go.Figure(data=trace_data, layout=layout)\n",
    "py.iplot(fig, filename='fft-band-pass-filter')"
   ]
  },
  {
   "cell_type": "code",
   "execution_count": null,
   "metadata": {},
   "outputs": [],
   "source": []
  }
 ],
 "metadata": {
  "kernelspec": {
   "display_name": "Python 3",
   "language": "python",
   "name": "python3"
  },
  "language_info": {
   "codemirror_mode": {
    "name": "ipython",
    "version": 3
   },
   "file_extension": ".py",
   "mimetype": "text/x-python",
   "name": "python",
   "nbconvert_exporter": "python",
   "pygments_lexer": "ipython3",
   "version": "3.6.5"
  }
 },
 "nbformat": 4,
 "nbformat_minor": 2
}
