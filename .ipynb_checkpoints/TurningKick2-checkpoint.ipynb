{
 "cells": [
  {
   "cell_type": "code",
   "execution_count": 1,
   "metadata": {},
   "outputs": [
    {
     "data": {
      "text/plain": [
       "<Figure size 640x480 with 1 Axes>"
      ]
     },
     "metadata": {},
     "output_type": "display_data"
    },
    {
     "data": {
      "text/plain": [
       "<Figure size 640x480 with 1 Axes>"
      ]
     },
     "metadata": {},
     "output_type": "display_data"
    },
    {
     "data": {
      "text/plain": [
       "<Figure size 640x480 with 1 Axes>"
      ]
     },
     "metadata": {},
     "output_type": "display_data"
    },
    {
     "data": {
      "text/plain": [
       "<Figure size 640x480 with 1 Axes>"
      ]
     },
     "metadata": {},
     "output_type": "display_data"
    },
    {
     "data": {
      "text/plain": [
       "<Figure size 640x480 with 1 Axes>"
      ]
     },
     "metadata": {},
     "output_type": "display_data"
    }
   ],
   "source": [
    "import numpy as np\n",
    "import matplotlib.pyplot as plt\n",
    "import matplotlib.animation as animation\n",
    "import pandas\n",
    "import math\n",
    "\n",
    "df1 = pandas.read_csv('csv/20200321_122217_Accelerometer_Turning_Kick2.csv') #Front Kick\n",
    "\n",
    "HostTime = df1['HostTimestamp']\n",
    "HostTime -= HostTime[0]\n",
    "HostTime /= 1000\n",
    "\n",
    "HostTime = np.array(HostTime)\n",
    "df1 = df1[df1.HostTimestamp > 0]\n",
    "HostTime = HostTime[HostTime > 0]\n",
    "\n",
    "acc1 = df1['X (mg)']**2 + df1['Y (mg)']**2 + df1['Z (mg)']**2\n",
    "acc1 = np.sqrt(acc1)\n",
    "\n",
    "accX = df1['X (mg)']\n",
    "accY = df1['Y (mg)']\n",
    "accZ = df1['Z (mg)']\n",
    "\n",
    "acc1=np.array(acc1)/1000\n",
    "\n",
    "plt.plot(HostTime,acc1,'r-')\n",
    "plt.xlabel('time [s]')\n",
    "plt.ylabel('acceleration [g]')\n",
    "plt.show()\n",
    "\n",
    "# create figure and axis objects with subplots()\n",
    "fig,ax=plt.subplots()\n",
    "ax.plot(HostTime, acc1, marker=\"o\")\n",
    "ax.set_xlabel(\"time\")\n",
    "ax.set_ylabel(\"speed\")\n",
    "plt.show()\n",
    "\n",
    "df2 = pandas.read_csv('csv/20200321_122217_Gyroscope_Turning_Kick2.csv')\n",
    "\n",
    "HostTime = df2['HostTimestamp']\n",
    "HostTime -= HostTime[0]\n",
    "HostTime /= 1000\n",
    "\n",
    "HostTime = np.array(HostTime)\n",
    "df2 = df2[df2.HostTimestamp > 0]\n",
    "HostTime = HostTime[HostTime > 0]\n",
    "\n",
    "GyrX = df2['X (dps)']\n",
    "GyrY = df2['Y (dps)']\n",
    "GyrZ = df2['Z (dps)']\n",
    "\n",
    "\n",
    "plt.plot(HostTime,GyrX,'r-')\n",
    "plt.xlabel('time [s]')\n",
    "plt.ylabel('X_Ang_vel [degrees/second]')\n",
    "plt.show()\n",
    "\n",
    "plt.plot(HostTime,GyrY,'r-')\n",
    "plt.xlabel('time [s]')\n",
    "plt.ylabel('Y_Ang_vel [degrees/second]')\n",
    "plt.show()\n",
    "\n",
    "plt.plot(HostTime,GyrZ,'r-')\n",
    "plt.xlabel('time [s]')\n",
    "plt.ylabel('Z_Ang_vel [degrees/second]')\n",
    "plt.show()\n"
   ]
  },
  {
   "cell_type": "code",
   "execution_count": null,
   "metadata": {},
   "outputs": [],
   "source": []
  }
 ],
 "metadata": {
  "kernelspec": {
   "display_name": "Python 3",
   "language": "python",
   "name": "python3"
  },
  "language_info": {
   "codemirror_mode": {
    "name": "ipython",
    "version": 3
   },
   "file_extension": ".py",
   "mimetype": "text/x-python",
   "name": "python",
   "nbconvert_exporter": "python",
   "pygments_lexer": "ipython3",
   "version": "3.6.5"
  }
 },
 "nbformat": 4,
 "nbformat_minor": 2
}
