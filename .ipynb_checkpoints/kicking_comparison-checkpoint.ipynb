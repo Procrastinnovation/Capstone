{
 "cells": [
  {
   "cell_type": "code",
   "execution_count": 1,
   "metadata": {},
   "outputs": [],
   "source": [
    "import numpy as np\n",
    "import matplotlib.pyplot as plt\n",
    "import matplotlib.animation as animation\n",
    "import pandas"
   ]
  },
  {
   "cell_type": "code",
   "execution_count": 2,
   "metadata": {
    "scrolled": false
   },
   "outputs": [],
   "source": [
    "pathfile4 = 'csv/Right_TurningKick_CSV/Turningkick4_Accelerometer.csv'\n",
    "pathfile5 = 'csv/Right_TurningKick_CSV/Turningkick5_Accelerometer.csv'\n",
    "pathfile6 = 'csv/Right_TurningKick_CSV/Turningkick6_Accelerometer.csv'\n",
    "pathfile7 = 'csv/Right_TurningKick_CSV/Turningkick7_Accelerometer.csv'\n",
    "pathfile8 = 'csv/Right_TurningKick_CSV/Turningkick8_Accelerometer.csv'\n",
    "pathfile9 = 'csv/Right_TurningKick_CSV/Turningkick9_Accelerometer.csv'\n",
    "df4 = pandas.read_csv(pathfile4, skiprows=4)\n",
    "df5 = pandas.read_csv(pathfile5, skiprows=4)\n",
    "#df6 = pandas.read_csv(pathfile6, skiprows=4)\n",
    "#df7 = pandas.read_csv(pathfile7, skiprows=4)\n",
    "#df8 = pandas.read_csv(pathfile8, skiprows=4)\n",
    "#df9 = pandas.read_csv(pathfile9, skiprows=4)\n",
    "#nan_value = float(\"NaN\")\n",
    "#df5.replace(\"\", nan_value, inplace=True)\n",
    "df4.dropna(subset = [\"Date\"], inplace=True)\n",
    "df5.dropna(subset = [\"Date\"], inplace=True)\n"
   ]
  },
  {
   "cell_type": "code",
   "execution_count": 21,
   "metadata": {},
   "outputs": [
    {
     "name": "stdout",
     "output_type": "stream",
     "text": [
      "[1.07097572 1.20586027 1.93568438 2.59680457 2.6441318  2.18535443\n",
      " 2.70581319 1.61823113 1.74737203 2.17490597 2.63395387 2.18155655\n",
      " 3.45948291 2.73917396 2.32696154 2.09463768 0.98449073 2.15032672\n",
      " 1.99053762 2.36131679 2.22880349 1.25265957 1.72173459 1.8037023\n",
      " 2.79559958 1.30614892 1.40965705 1.09349074 0.96528804 1.02623048\n",
      " 0.9730966  0.97275125 1.00329906 1.0107888  0.99683549 0.98294913\n",
      " 0.99333479 0.9985179  0.98215477 0.98204328 1.00840171 0.99635486\n",
      " 0.99832109 0.9923845  0.99413379 0.99054884 0.99432691 0.99467231\n",
      " 0.99350088 0.99469141 0.99516481 0.99633779 0.99350289 0.99714242\n",
      " 0.98900051 0.9887836  0.99690421]\n",
      "[0.    0.029 0.09  0.15  0.179 0.24  0.33  0.364 0.389 0.449 0.48  0.54\n",
      " 0.6   0.629 0.689 0.75  0.78  0.84  0.9   0.93  1.02  1.052 1.079 1.17\n",
      " 1.2   1.229 1.289 1.32  1.38  1.44  1.47  1.529 1.59  1.619 1.74  1.742\n",
      " 1.779 1.829 1.89  1.92  2.01  2.07  2.099 2.13  2.19  2.22  2.279 2.339\n",
      " 2.37  2.43  2.52  2.549 2.579 2.639 2.67  2.73  2.79 ]\n"
     ]
    }
   ],
   "source": [
    "acc4 = df4['X (mg)']**2 + df4['Y (mg)']**2 + df4['Z (mg)']**2\n",
    "acc4 = np.sqrt(acc4)\n",
    "\n",
    "for i, j in enumerate(acc4[:-1]):\n",
    "    if (j < acc4[i+1])and(j>1000): \n",
    "        start = i\n",
    "        break\n",
    "        \n",
    "#start = next(x for x, val in enumerate(acc4) \n",
    "#                                  if val > 1000)\n",
    "\n",
    "end = max(idx for idx, val in enumerate(acc4)  \n",
    "                                  if val > 1000)\n",
    "\n",
    "\n",
    "acc4=acc4.iloc[start:end]\n",
    "#print(acc4.describe())\n",
    "HostTime4 = df4['HostTimestamp']\n",
    "HostTime4=HostTime4.iloc[start:end]\n",
    "HostTime4 = HostTime4.astype('int64')\n",
    "HostTime4 -= HostTime4[start]\n",
    "HostTime4 /= 1000\n",
    "acc4=np.array(acc4)/1000\n",
    "HostTime4 = np.array(HostTime4)\n",
    "#df4 = df4[df4.HostTimestamp > 0]\n",
    "#HostTime4 = HostTime4[HostTime4 > 0]\n",
    "print(acc4)\n",
    "print(HostTime4)\n"
   ]
  },
  {
   "cell_type": "code",
   "execution_count": 22,
   "metadata": {},
   "outputs": [
    {
     "name": "stdout",
     "output_type": "stream",
     "text": [
      "6\n",
      "52\n",
      "[1.02307869 1.07056294 1.44511418 2.30918276 3.20517971 2.40714229\n",
      " 2.31547382 2.03592952 2.17172973 1.96916353 2.68939138 2.37513242\n",
      " 2.26815983 3.26532372 2.01886329 2.11274419 0.74347495 0.82069483\n",
      " 1.37049407 1.34753627 1.39404555 1.6963729  2.01221793 2.02867173\n",
      " 1.89998789 1.51110357 1.66162631 1.1632287  1.45831238 0.94744868\n",
      " 1.03980816 0.99836967 1.01872126 0.9985139  0.99947436 0.99433093\n",
      " 0.99920969 0.99303223 0.99089909 0.98023059 1.00043241 0.99174241\n",
      " 0.99636991 0.98660935 0.99424796 0.99832359]\n",
      "[0.    0.038 0.128 0.154 0.188 0.249 0.278 0.338 0.399 0.429 0.489 0.549\n",
      " 0.578 0.639 0.699 0.729 0.789 0.849 0.879 0.939 0.999 1.029 1.089 1.149\n",
      " 1.178 1.238 1.299 1.329 1.389 1.449 1.479 1.539 1.599 1.629 1.689 1.749\n",
      " 1.778 1.87  1.901 1.928 1.989 2.049 2.083 2.138 2.198 2.228]\n"
     ]
    }
   ],
   "source": [
    "acc5 = df5['X (mg)']**2 + df5['Y (mg)']**2 + df5['Z (mg)']**2\n",
    "acc5 = np.sqrt(acc5)\n",
    "\n",
    "start = next(x for x, val in enumerate(acc5) \n",
    "                                  if val > 1000) \n",
    "\n",
    "end = max(idx for idx, val in enumerate(acc5)  \n",
    "                                  if val > 1000)\n",
    "\n",
    "\n",
    "acc5=acc5.iloc[start:end]\n",
    "acc5=np.array(acc5)/1000\n",
    "\n",
    "#print(acc5.describe())\n",
    "HostTime5 = df5['HostTimestamp']\n",
    "HostTime5 = HostTime5.iloc[start:end]\n",
    "HostTime5 = HostTime5.astype('int64')\n",
    "HostTime5 -= HostTime5[start]\n",
    "HostTime5 /= 1000\n",
    "HostTime5 = np.array(HostTime5)\n",
    "#df5 = df5[df5.HostTimestamp > 0]\n",
    "#HostTime5 = HostTime5[HostTime5 > 0]\n",
    "print(start)\n",
    "print(end)\n",
    "\n",
    "print(acc5)\n",
    "print(HostTime5)"
   ]
  },
  {
   "cell_type": "code",
   "execution_count": 23,
   "metadata": {},
   "outputs": [
    {
     "name": "stdout",
     "output_type": "stream",
     "text": [
      "2\n",
      "2\n"
     ]
    }
   ],
   "source": [
    "duration4 = int(HostTime4[-1])\n",
    "print(duration4)\n",
    "samples4 = int(len(HostTime4)/duration4)\n",
    "print(duration4)"
   ]
  },
  {
   "cell_type": "code",
   "execution_count": 24,
   "metadata": {},
   "outputs": [
    {
     "name": "stdout",
     "output_type": "stream",
     "text": [
      "2\n",
      "2\n"
     ]
    }
   ],
   "source": [
    "duration5 = int(HostTime5[-1])\n",
    "print(duration5)\n",
    "samples5 = int(len(HostTime5)/duration5)\n",
    "print(duration5)"
   ]
  },
  {
   "cell_type": "code",
   "execution_count": 25,
   "metadata": {
    "scrolled": true
   },
   "outputs": [
    {
     "name": "stdout",
     "output_type": "stream",
     "text": [
      "57\n",
      "57\n",
      "46\n",
      "46\n"
     ]
    },
    {
     "data": {
      "image/png": "[encoded data removed]",
      "text/plain": [
       "<Figure size 432x288 with 1 Axes>"
      ]
     },
     "metadata": {},
     "output_type": "display_data"
    }
   ],
   "source": [
    "print(len(acc4))\n",
    "print(len(HostTime4))\n",
    "print(len(acc5))\n",
    "print(len(HostTime5))\n",
    "\n",
    "plt.plot(HostTime4,acc4,'r-')\n",
    "plt.plot(HostTime5,acc5,'b-')\n",
    "plt.xlabel('time [s]')\n",
    "plt.ylabel('acceleration [g]')\n",
    "plt.show()"
   ]
  },
  {
   "cell_type": "code",
   "execution_count": null,
   "metadata": {},
   "outputs": [],
   "source": []
  },
  {
   "cell_type": "code",
   "execution_count": null,
   "metadata": {},
   "outputs": [],
   "source": []
  }
 ],
 "metadata": {
  "kernelspec": {
   "display_name": "Python 3",
   "language": "python",
   "name": "python3"
  },
  "language_info": {
   "codemirror_mode": {
    "name": "ipython",
    "version": 3
   },
   "file_extension": ".py",
   "mimetype": "text/x-python",
   "name": "python",
   "nbconvert_exporter": "python",
   "pygments_lexer": "ipython3",
   "version": "3.6.5"
  }
 },
 "nbformat": 4,
 "nbformat_minor": 2
}
